{
 "cells": [
  {
   "cell_type": "code",
   "execution_count": 1,
   "id": "9ab303f8",
   "metadata": {},
   "outputs": [],
   "source": [
    "#By using census data I want to predict if someone will make 50,000k or more\n",
    "#I feel like this is important to give accurate details about people that make 6 figures or more\n",
    "#Start by importing all my libraries\n",
    "import pandas as pd\n",
    "import numpy as np\n",
    "import matplotlib.pyplot as plt\n",
    "import seaborn as sns\n",
    "from sklearn.model_selection import train_test_split\n",
    "from sklearn.tree import DecisionTreeClassifier\n",
    "from sklearn.ensemble import RandomForestClassifier, BaggingClassifier, RandomForestRegressor\n",
    "from sklearn import tree\n",
    "from sklearn.linear_model import LogisticRegression\n",
    "from sklearn.metrics import accuracy_score, precision_score, recall_score, f1_score, roc_auc_score"
   ]
  },
  {
   "cell_type": "code",
   "execution_count": 2,
   "id": "b6a285a9",
   "metadata": {},
   "outputs": [],
   "source": [
    "col_names = ['age', 'workclass', 'fnlwgt','education', 'education-num', \n",
    "'marital-status', 'occupation', 'relationship', 'race', 'sex',\n",
    "'capital-gain','capital-loss', 'hours-per-week','native-country', 'income']\n",
    "df = pd.read_csv('adult.data', header=None, names = col_names)"
   ]
  },
  {
   "cell_type": "code",
   "execution_count": 3,
   "id": "879e7122",
   "metadata": {},
   "outputs": [
    {
     "name": "stdout",
     "output_type": "stream",
     "text": [
      "   age          workclass  fnlwgt   education  education-num  \\\n",
      "0   39          State-gov   77516   Bachelors             13   \n",
      "1   50   Self-emp-not-inc   83311   Bachelors             13   \n",
      "2   38            Private  215646     HS-grad              9   \n",
      "\n",
      "        marital-status          occupation    relationship    race    sex  \\\n",
      "0        Never-married        Adm-clerical   Not-in-family   White   Male   \n",
      "1   Married-civ-spouse     Exec-managerial         Husband   White   Male   \n",
      "2             Divorced   Handlers-cleaners   Not-in-family   White   Male   \n",
      "\n",
      "   capital-gain  capital-loss  hours-per-week  native-country  income  \n",
      "0          2174             0              40   United-States   <=50K  \n",
      "1             0             0              13   United-States   <=50K  \n",
      "2             0             0              40   United-States   <=50K  \n"
     ]
    }
   ],
   "source": [
    "print(df.head(3))"
   ]
  },
  {
   "cell_type": "code",
   "execution_count": 4,
   "id": "66b13c17",
   "metadata": {},
   "outputs": [
    {
     "name": "stdout",
     "output_type": "stream",
     "text": [
      " <=50K    0.75919\n",
      " >50K     0.24081\n",
      "Name: income, dtype: float64\n"
     ]
    }
   ],
   "source": [
    "#I want to first see from the data what percentage actually makes over 50000k or less than 50000k\n",
    "print(df.income.value_counts(normalize=True))"
   ]
  },
  {
   "cell_type": "code",
   "execution_count": 5,
   "id": "4712fca0",
   "metadata": {},
   "outputs": [],
   "source": [
    "#Going to clean the data a little bit by removing white space in columns with objects in it\n",
    "#Clean columns by stripping extra whitespace for columns of type \"object\"\n",
    "for c in df.select_dtypes(include=['object']).columns:\n",
    "    df[c] = df[c].str.strip()"
   ]
  },
  {
   "cell_type": "code",
   "execution_count": 6,
   "id": "cb19e1b1",
   "metadata": {},
   "outputs": [],
   "source": [
    "feature_cols = ['age','capital-gain', 'capital-loss', 'hours-per-week', 'sex','race']\n",
    "#Create feature dataframe X with feature columns and dummy variables for categorical features\n",
    "X = pd.get_dummies(df[feature_cols], drop_first=True)"
   ]
  },
  {
   "cell_type": "code",
   "execution_count": 7,
   "id": "a179a09b",
   "metadata": {},
   "outputs": [],
   "source": [
    "#creating an outcome variable. if y is less than 50k its 0, vise versa\n",
    "y = np.where(df.income=='<=50K', 0, 1)"
   ]
  },
  {
   "cell_type": "code",
   "execution_count": 8,
   "id": "794729cc",
   "metadata": {},
   "outputs": [],
   "source": [
    "#Splitting data into test,train\n",
    "x_train, x_test, y_train, y_test = train_test_split(X,y, random_state=1, test_size=.2)"
   ]
  },
  {
   "cell_type": "code",
   "execution_count": 9,
   "id": "ba8ce351",
   "metadata": {},
   "outputs": [
    {
     "name": "stdout",
     "output_type": "stream",
     "text": [
      "0.8220482112697681\n"
     ]
    }
   ],
   "source": [
    "#going to start with a random forest classifier\n",
    "rf = RandomForestClassifier()\n",
    "rf.fit(x_train,y_train)\n",
    "print(rf.score(x_test,y_test))"
   ]
  },
  {
   "cell_type": "code",
   "execution_count": 11,
   "id": "57b617b3",
   "metadata": {},
   "outputs": [],
   "source": [
    "#I want to see what the affects of changing the depth of each tree might be\n",
    "accuracy_train=[]\n",
    "accuracy_test = []\n",
    "depths = range(1,26)\n",
    "for i in depths:\n",
    "    rf = RandomForestClassifier(max_depth=i)\n",
    "    rf.fit(x_train, y_train)\n",
    "    y_pred = rf.predict(x_test)\n",
    "    accuracy_test.append(accuracy_score(y_test, rf.predict(x_test)))\n",
    "    accuracy_train.append(accuracy_score(y_train, rf.predict(x_train)))"
   ]
  },
  {
   "cell_type": "code",
   "execution_count": 16,
   "id": "3ea9e311",
   "metadata": {},
   "outputs": [
    {
     "name": "stdout",
     "output_type": "stream",
     "text": [
      "best accuracy: 0.8335636419468755\n",
      "best depth: 13\n"
     ]
    }
   ],
   "source": [
    "#I want to see which depth has the best accuracy. By finding the max of the accuracy test\n",
    "best_acc = np.max(accuracy_test)\n",
    "print('best accuracy:',best_acc)\n",
    "best_depth = depths[np.argmax(accuracy_test)]\n",
    "print('best depth:',best_depth)"
   ]
  },
  {
   "cell_type": "code",
   "execution_count": 19,
   "id": "31beb330",
   "metadata": {},
   "outputs": [
    {
     "data": {
      "image/png": "[encoded data removed]",
      "text/plain": [
       "<Figure size 640x480 with 1 Axes>"
      ]
     },
     "metadata": {},
     "output_type": "display_data"
    }
   ],
   "source": [
    "#now that I have the best depth and accuracy. Just for more visualization I can plot train and test data against each other and see where the split is\n",
    "plt.plot(depths,accuracy_test,depths,accuracy_train)\n",
    "plt.legend(['test accuracy','train accuracy'])\n",
    "plt.xlabel('depth')\n",
    "plt.ylabel('accuracy')\n",
    "plt.show()"
   ]
  },
  {
   "cell_type": "code",
   "execution_count": 21,
   "id": "3dc321d0",
   "metadata": {},
   "outputs": [
    {
     "name": "stdout",
     "output_type": "stream",
     "text": [
      "          feature  importance\n",
      "1    capital-gain    0.368036\n",
      "0             age    0.245799\n",
      "3  hours-per-week    0.147619\n",
      "2    capital-loss    0.138351\n",
      "4        sex_Male    0.078730\n"
     ]
    }
   ],
   "source": [
    "#now that I have the best rf depth I can make a better rf\n",
    "best_rf = RandomForestClassifier(max_depth = best_depth)\n",
    "best_rf.fit(x_train,y_train)\n",
    "#I can also see the importance of each feature\n",
    "feature_imp_df = pd.DataFrame(zip(x_train.columns, best_rf.feature_importances_),  columns=['feature', 'importance'])\n",
    "print(feature_imp_df.sort_values('importance', ascending=False).iloc[0:5])"
   ]
  },
  {
   "cell_type": "code",
   "execution_count": 22,
   "id": "4dc87682",
   "metadata": {},
   "outputs": [],
   "source": [
    "#I want to also see the affects of education on income level\n",
    "df['education_bin'] = pd.cut(df['education-num'], [0,9,13,16], labels=['HS or less', 'College to Bachelors', 'Masters or more'])\n",
    "\n",
    "feature_cols = ['age',\n",
    "       'capital-gain', 'capital-loss', 'hours-per-week', 'sex', 'race','education_bin']"
   ]
  },
  {
   "cell_type": "code",
   "execution_count": 23,
   "id": "01671890",
   "metadata": {},
   "outputs": [],
   "source": [
    "#Now splitting education data\n",
    "X = pd.get_dummies(df[feature_cols], drop_first=True)\n",
    "\n",
    "x_train, x_test, y_train, y_test = train_test_split(X,y, random_state=1, test_size=.2)"
   ]
  },
  {
   "cell_type": "code",
   "execution_count": 24,
   "id": "f0cb05ac",
   "metadata": {},
   "outputs": [],
   "source": [
    "accuracy_train=[]\n",
    "accuracy_test = []\n",
    "depths = range(1,25)\n",
    "for i in depths:\n",
    "    rf = RandomForestClassifier(max_depth=i)\n",
    "    rf.fit(x_train, y_train)\n",
    "    y_pred = rf.predict(x_test)\n",
    "    accuracy_test.append(accuracy_score(y_test, rf.predict(x_test)))\n",
    "    accuracy_train.append(accuracy_score(y_train, rf.predict(x_train)))"
   ]
  },
  {
   "cell_type": "code",
   "execution_count": 25,
   "id": "89ed2b33",
   "metadata": {},
   "outputs": [
    {
     "name": "stdout",
     "output_type": "stream",
     "text": [
      "0.8502994011976048\n",
      "13\n"
     ]
    }
   ],
   "source": [
    "#Doing the same thing as above I want to see the max depth and best accuracy\n",
    "best_acc= np.max(accuracy_test)\n",
    "print(best_acc)\n",
    "best_depth = depths[np.argmax(accuracy_test)]\n",
    "print(best_depth)"
   ]
  },
  {
   "cell_type": "code",
   "execution_count": 26,
   "id": "ef91295a",
   "metadata": {},
   "outputs": [
    {
     "data": {
      "image/png": "[encoded data removed]",
      "text/plain": [
       "<Figure size 640x480 with 1 Axes>"
      ]
     },
     "metadata": {},
     "output_type": "display_data"
    }
   ],
   "source": [
    "plt.figure(2)\n",
    "plt.plot(depths, accuracy_test,'bo--',depths, accuracy_train,'r*:')\n",
    "plt.legend(['test accuracy', 'train accuracy'])\n",
    "plt.xlabel('max depth')\n",
    "plt.ylabel('accuracy')\n",
    "plt.show()"
   ]
  },
  {
   "cell_type": "code",
   "execution_count": 34,
   "id": "411fab5e",
   "metadata": {},
   "outputs": [
    {
     "ename": "SyntaxError",
     "evalue": "invalid character '‘' (U+2018) (2369649555.py, line 17)",
     "output_type": "error",
     "traceback": [
      "\u001b[1;36m  File \u001b[1;32m\"C:\\Users\\Sungmin\\AppData\\Local\\Temp\\ipykernel_4800\\2369649555.py\"\u001b[1;36m, line \u001b[1;32m17\u001b[0m\n\u001b[1;33m    line1, = plt.plot(n_estimators, train_results, ‘b’, label=”Train AUC”)\u001b[0m\n\u001b[1;37m                                                   ^\u001b[0m\n\u001b[1;31mSyntaxError\u001b[0m\u001b[1;31m:\u001b[0m invalid character '‘' (U+2018)\n"
     ]
    }
   ],
   "source": [
    "#I want to see if I can improve the parameters by including n_estimators\n",
    "n_estimators = [1, 2, 4, 8, 16, 32, 64, 100, 200]\n",
    "train_results = []\n",
    "test_results = []\n",
    "for estimator in n_estimators:\n",
    "   rf = RandomForestClassifier(n_estimators=estimator, n_jobs=-1)\n",
    "   rf.fit(x_train, y_train)\n",
    "   train_pred = rf.predict(x_train)\n",
    "   false_positive_rate, true_positive_rate, thresholds = roc_curve(y_train, train_pred)\n",
    "   roc_auc = auc(false_positive_rate, true_positive_rate)\n",
    "   train_results.append(roc_auc)\n",
    "   y_pred = rf.predict(x_test)\n",
    "   false_positive_rate, true_positive_rate, thresholds = roc_curve(y_test, y_pred)\n",
    "   roc_auc = auc(false_positive_rate, true_positive_rate)\n",
    "   test_results.append(roc_auc)\n",
    "from matplotlib.legend_handler import HandlerLine2D\n",
    "line1, = plt.plot(n_estimators, train_results, ‘b’, label=”Train AUC”)\n",
    "line2, = plt.plot(n_estimators, test_results, ‘r’, label=”Test AUC”)\n",
    "plt.legend(handler_map={line1: HandlerLine2D(numpoints=2)})\n",
    "plt.ylabel(‘AUC score’)\n",
    "plt.xlabel(‘n_estimators’)\n",
    "plt.show()"
   ]
  },
  {
   "cell_type": "code",
   "execution_count": 36,
   "id": "04333ff9",
   "metadata": {},
   "outputs": [
    {
     "name": "stdout",
     "output_type": "stream",
     "text": [
      "Top 5 random forest features:\n",
      "                          feature  importance\n",
      "1                    capital-gain    0.296611\n",
      "0                             age    0.218148\n",
      "3                  hours-per-week    0.128671\n",
      "10  education_bin_Masters or more    0.109886\n",
      "2                    capital-loss    0.107816\n"
     ]
    }
   ],
   "source": [
    "best_rf = RandomForestClassifier(max_depth=best_depth,n_estimators=200)\n",
    "best_rf.fit(x_train, y_train)\n",
    "feature_imp_df = pd.DataFrame(zip(x_train.columns, best_rf.feature_importances_),  columns=['feature', 'importance'])\n",
    "print('Top 5 random forest features:')\n",
    "print(feature_imp_df.sort_values('importance', ascending=False).iloc[0:5])"
   ]
  },
  {
   "cell_type": "code",
   "execution_count": null,
   "id": "f404e441",
   "metadata": {},
   "outputs": [],
   "source": []
  },
  {
   "cell_type": "code",
   "execution_count": null,
   "id": "b31c3fe2",
   "metadata": {},
   "outputs": [],
   "source": []
  }
 ],
 "metadata": {
  "kernelspec": {
   "display_name": "Python 3 (ipykernel)",
   "language": "python",
   "name": "python3"
  },
  "language_info": {
   "codemirror_mode": {
    "name": "ipython",
    "version": 3
   },
   "file_extension": ".py",
   "mimetype": "text/x-python",
   "name": "python",
   "nbconvert_exporter": "python",
   "pygments_lexer": "ipython3",
   "version": "3.9.13"
  }
 },
 "nbformat": 4,
 "nbformat_minor": 5
}
